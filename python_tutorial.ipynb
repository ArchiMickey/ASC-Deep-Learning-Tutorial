{
 "cells": [
  {
   "cell_type": "markdown",
   "metadata": {},
   "source": [
    "# Python Tutorial"
   ]
  },
  {
   "cell_type": "code",
   "execution_count": 2,
   "metadata": {},
   "outputs": [
    {
     "name": "stdout",
     "output_type": "stream",
     "text": [
      "Hello World\n"
     ]
    }
   ],
   "source": [
    "print('Hello World')"
   ]
  },
  {
   "cell_type": "markdown",
   "metadata": {},
   "source": [
    "Jupyter prints out the return value of the last line"
   ]
  },
  {
   "cell_type": "code",
   "execution_count": 3,
   "metadata": {},
   "outputs": [
    {
     "data": {
      "text/plain": [
       "'Hello World'"
      ]
     },
     "execution_count": 3,
     "metadata": {},
     "output_type": "execute_result"
    }
   ],
   "source": [
    "'Hello World' "
   ]
  },
  {
   "cell_type": "markdown",
   "metadata": {},
   "source": [
    "## Arithmetics"
   ]
  },
  {
   "cell_type": "code",
   "execution_count": 4,
   "metadata": {},
   "outputs": [
    {
     "name": "stdout",
     "output_type": "stream",
     "text": [
      "2 <class 'int'>\n",
      "7 <class 'int'>\n",
      "20 <class 'int'>\n",
      "20.0 <class 'float'>\n",
      "20.0 <class 'float'>\n"
     ]
    }
   ],
   "source": [
    "print(1 + 1, type(1 + 1))   # => 2\n",
    "print(8 - 1, type(8 - 1))   # => 7\n",
    "print(10 * 2, type(10 * 2))  # => 20\n",
    "print(10.0 * 2, type(10.0 * 2)) # => 20.0\n",
    "print(10 * 2.0, type(10 * 2.0)) # => 20.0"
   ]
  },
  {
   "cell_type": "markdown",
   "metadata": {},
   "source": [
    "### Divisions"
   ]
  },
  {
   "cell_type": "code",
   "execution_count": 5,
   "metadata": {},
   "outputs": [
    {
     "name": "stdout",
     "output_type": "stream",
     "text": [
      "7.0 <class 'float'>\n",
      "3.3333333333333335 <class 'float'>\n",
      "1 <class 'int'>\n",
      "1.0 <class 'float'>\n",
      "-2 <class 'int'>\n",
      "-2.0 <class 'float'>\n"
     ]
    }
   ],
   "source": [
    "#Always return a float\n",
    "print(35 / 5, type(35 / 5))  # => 7.0\n",
    "print(10.0 / 3, type(10.0 / 3))  # => 3.3333333333333335\n",
    "\n",
    "# Truncates down for integers when double stash //\n",
    "print(5 // 3, type(5 // 3))      # => 1\n",
    "print(5.0 // 3.0, type(5.0 // 3.0))   # => 1.0 # works on floats too\n",
    "print(-5 // 3, type(-5 // 3))      # => -2\n",
    "print(-5.0 // 3.0, type(-5.0 // 3.0))  # => -2.0\n"
   ]
  },
  {
   "cell_type": "markdown",
   "metadata": {},
   "source": [
    "### Modulo operatior, i.e. remainder"
   ]
  },
  {
   "cell_type": "code",
   "execution_count": 6,
   "metadata": {},
   "outputs": [
    {
     "name": "stdout",
     "output_type": "stream",
     "text": [
      "1\n"
     ]
    }
   ],
   "source": [
    "print(7 % 3)  # => 1"
   ]
  },
  {
   "cell_type": "markdown",
   "metadata": {},
   "source": [
    "### Exponentials (x**y, x to the yth power)"
   ]
  },
  {
   "cell_type": "markdown",
   "metadata": {},
   "source": [
    "Works not only to positive integer powers but to negative and fractional powers"
   ]
  },
  {
   "cell_type": "code",
   "execution_count": 7,
   "metadata": {},
   "outputs": [
    {
     "name": "stdout",
     "output_type": "stream",
     "text": [
      "8\n",
      "2.0\n"
     ]
    }
   ],
   "source": [
    "print(2**3) #=> 8\n",
    "print(4**.5) #=> 2.0"
   ]
  },
  {
   "cell_type": "markdown",
   "metadata": {},
   "source": [
    "## Boolean Logics"
   ]
  },
  {
   "cell_type": "markdown",
   "metadata": {
    "scrolled": true
   },
   "source": [
    "Booleans: True, False. Python is Case-sensitive! true will refer to a variable named 'true'. The 't' and 'f' MUST be uppercase.\n"
   ]
  },
  {
   "cell_type": "code",
   "execution_count": 8,
   "metadata": {
    "scrolled": true
   },
   "outputs": [
    {
     "name": "stdout",
     "output_type": "stream",
     "text": [
      "False\n",
      "True\n",
      "False\n",
      "True\n",
      "False\n",
      "False\n",
      "False\n",
      "True\n"
     ]
    }
   ],
   "source": [
    "print(True and False)  # => False\n",
    "print(False or True)   # => True\n",
    "print(not True)   # => False\n",
    "print(not False)  # => True\n",
    "print(2 == 1)  # => False\n",
    "print(1 != 1)  # => False\n",
    "print(1 > 10)  # => False\n",
    "print(2 <= 2)  # => True"
   ]
  },
  {
   "cell_type": "markdown",
   "metadata": {},
   "source": [
    "## Variables"
   ]
  },
  {
   "cell_type": "markdown",
   "metadata": {},
   "source": [
    "No type declaration required"
   ]
  },
  {
   "cell_type": "code",
   "execution_count": 9,
   "metadata": {},
   "outputs": [
    {
     "name": "stdout",
     "output_type": "stream",
     "text": [
      "5 <class 'int'>\n",
      "5.0 <class 'float'>\n"
     ]
    }
   ],
   "source": [
    "some_var = 5\n",
    "print(some_var, type(some_var))  # => 5\n",
    "some_var = float(some_var)\n",
    "print(some_var, type(some_var))"
   ]
  },
  {
   "cell_type": "markdown",
   "metadata": {},
   "source": [
    "Can reuse the same variable for different data types"
   ]
  },
  {
   "cell_type": "code",
   "execution_count": 10,
   "metadata": {},
   "outputs": [
    {
     "name": "stdout",
     "output_type": "stream",
     "text": [
      "I am a string <class 'str'>\n"
     ]
    }
   ],
   "source": [
    "some_var = 5\n",
    "some_var = 'I am a string'\n",
    "print(some_var, type(some_var)) #=> I am a string"
   ]
  },
  {
   "cell_type": "markdown",
   "metadata": {},
   "source": [
    "## Strings"
   ]
  },
  {
   "cell_type": "code",
   "execution_count": 99,
   "metadata": {},
   "outputs": [
    {
     "name": "stdout",
     "output_type": "stream",
     "text": [
      "I am some string.\n",
      "['I', ' ', 'a', 'm', ' ', 's', 'o', 'm', 'e', ' ', 's', 't', 'r', 'i', 'n', 'g', '.']\n"
     ]
    }
   ],
   "source": [
    "# \"\" and '' are the same\n",
    "somestring = \"I am some string.\"\n",
    "print(somestring) # => I am some string.\n",
    "# print(list(somestring))"
   ]
  },
  {
   "cell_type": "code",
   "execution_count": 12,
   "metadata": {},
   "outputs": [
    {
     "name": "stdout",
     "output_type": "stream",
     "text": [
      "I am a single string.\n"
     ]
    }
   ],
   "source": [
    "# Use + to concat strings\n",
    "string_a = \"I am\"\n",
    "string_b = \" a single string.\"\n",
    "string_c = string_a + string_b\n",
    "print(string_c) #=> I am a single string."
   ]
  },
  {
   "cell_type": "code",
   "execution_count": 13,
   "metadata": {},
   "outputs": [
    {
     "name": "stdout",
     "output_type": "stream",
     "text": [
      "hahahahahahahahahaha\n"
     ]
    }
   ],
   "source": [
    "# Use * to repeat strings\n",
    "print('ha'*10)"
   ]
  },
  {
   "cell_type": "code",
   "execution_count": 14,
   "metadata": {},
   "outputs": [
    {
     "name": "stdout",
     "output_type": "stream",
     "text": [
      "This is my integer: 42\n",
      "This is my integer: 42\n"
     ]
    }
   ],
   "source": [
    "#print stings with variables\n",
    "answer = 42\n",
    "#choice 1:\n",
    "print('This is my integer:', answer)\n",
    "#choice 2:\n",
    "print('This is my integer: {}'.format(answer))    \n",
    "\n",
    "#choice 2 is mostly prefered as the string looks cleaner."
   ]
  },
  {
   "cell_type": "markdown",
   "metadata": {},
   "source": [
    "## Arrays/Lists"
   ]
  },
  {
   "cell_type": "markdown",
   "metadata": {},
   "source": [
    "Arrays in python are commonly referred to lists, but they are actually dynamic arrays."
   ]
  },
  {
   "cell_type": "markdown",
   "metadata": {},
   "source": [
    "## Creating Lists"
   ]
  },
  {
   "cell_type": "code",
   "execution_count": 15,
   "metadata": {},
   "outputs": [
    {
     "name": "stdout",
     "output_type": "stream",
     "text": [
      "3\n",
      "[]\n",
      "[[2, 2], [3, 4]]\n",
      "[4, 4, 4]\n"
     ]
    }
   ],
   "source": [
    "# Lists store sequences\n",
    "li = []\n",
    "# You can start with a prefilled list\n",
    "other_li = [4, 5, 6]\n",
    "some_2d_array = [[2,2],[3,4]]\n",
    "another_li = [4]*3  #another_li is now [4,4,4]\n",
    "\n",
    "print(len(other_li)) #=> 3\n",
    "print(li) #=> []\n",
    "print(some_2d_array) #=> [[2, 2], [3, 4]]\n",
    "print(another_li) #=> [4, 4, 4]"
   ]
  },
  {
   "cell_type": "markdown",
   "metadata": {},
   "source": [
    "## Append Items"
   ]
  },
  {
   "cell_type": "code",
   "execution_count": 16,
   "metadata": {},
   "outputs": [
    {
     "name": "stdout",
     "output_type": "stream",
     "text": [
      "[1, 2]\n"
     ]
    }
   ],
   "source": [
    "#Add stuff to the end of a list with append\n",
    "li = []\n",
    "li.append(1)    # li is now [1]\n",
    "li.append(2)    # li is now [1, 2]\n",
    "print(li) #=> [1, 2]"
   ]
  },
  {
   "cell_type": "markdown",
   "metadata": {},
   "source": [
    "## Accessing list elements"
   ]
  },
  {
   "cell_type": "code",
   "execution_count": 17,
   "metadata": {},
   "outputs": [
    {
     "name": "stdout",
     "output_type": "stream",
     "text": [
      "1\n",
      "2\n",
      "2\n",
      "1\n",
      "3\n"
     ]
    }
   ],
   "source": [
    "# Access a list like you would any array\n",
    "print(li[0])   # => 1\n",
    "print(li[1])   # => 2\n",
    "# Look at the last element\n",
    "print(li[-1]) # => 2\n",
    "# Look at the second last element\n",
    "print(li[-2])  # => 1\n",
    "print(some_2d_array[1][0]) # => 3"
   ]
  },
  {
   "cell_type": "code",
   "execution_count": 18,
   "metadata": {},
   "outputs": [
    {
     "name": "stdout",
     "output_type": "stream",
     "text": [
      "[2, 4]\n",
      "[4, 3]\n",
      "[1, 2, 4]\n",
      "[1, 4]\n",
      "[3, 4, 2, 1]\n"
     ]
    }
   ],
   "source": [
    "# You can look at sub-lists with slice syntax.\n",
    "li = [1,2,4,3]\n",
    "# The start index is included, the end index is not\n",
    "print(li[1:3])   # => [2, 4]\n",
    "# Omitting the end means get until the end\n",
    "print(li[2:])    # => [4, 3]\n",
    "# Omitting the beginning means start from the beginning\n",
    "print(li[:3])    # => [1, 2, 4]\n",
    "# Select every second entry\n",
    "print(li[::2])   # =>[1, 4]\n",
    "# Return a reversed copy of the list\n",
    "print(li[::-1])  # => [3, 4, 2, 1]\n",
    "# Use any combination of these to make advanced slices\n",
    "# li[start:end:step]\n"
   ]
  },
  {
   "cell_type": "markdown",
   "metadata": {},
   "source": [
    "## If"
   ]
  },
  {
   "cell_type": "markdown",
   "metadata": {},
   "source": [
    "Here is an if statement.\n",
    "**Indentation is significant in Python!** Indentation defines the scope of the code. Omitting them will result in syntax error.\n",
    "Convention is to use four spaces, not tabs."
   ]
  },
  {
   "cell_type": "code",
   "execution_count": 19,
   "metadata": {
    "scrolled": true
   },
   "outputs": [
    {
     "name": "stdout",
     "output_type": "stream",
     "text": [
      "some_var is smaller than 10.\n",
      "10\n",
      "11\n"
     ]
    }
   ],
   "source": [
    "some_var = 5\n",
    "\n",
    "if some_var > 10:\n",
    "    print(\"some_var is totally bigger than 10.\")\n",
    "elif some_var < 10:    # This elif clause is optional.\n",
    "    print(\"some_var is smaller than 10.\")\n",
    "else:                  # This is optional too.\n",
    "    print(\"some_var is indeed 10.\")\n",
    "\n",
    "#Ternary operator\n",
    "some_var = 10 if 3 > 2 else 11 #=> some_var == 10\n",
    "print(some_var)\n",
    "some_var = 10 if 20 > 100 else 11 #=> some_var == 11\n",
    "print(some_var)"
   ]
  },
  {
   "cell_type": "markdown",
   "metadata": {},
   "source": [
    "## For Loops"
   ]
  },
  {
   "cell_type": "markdown",
   "metadata": {},
   "source": [
    "For loops in python are a bit different from languages like c and java. \n",
    "For loops iterate over lists."
   ]
  },
  {
   "cell_type": "code",
   "execution_count": 20,
   "metadata": {
    "scrolled": true
   },
   "outputs": [
    {
     "name": "stdout",
     "output_type": "stream",
     "text": [
      "dog is a mammal\n",
      "cat is a mammal\n",
      "mouse is a mammal\n"
     ]
    }
   ],
   "source": [
    "\"\"\"\n",
    "prints:\n",
    "    dog is a mammal\n",
    "    cat is a mammal\n",
    "    mouse is a mammal\n",
    "\"\"\"\n",
    "for animal in [\"dog\", \"cat\", \"mouse\"]:\n",
    "    #Remember indentation matters!\n",
    "    print(animal,\"is a mammal\")\n"
   ]
  },
  {
   "cell_type": "markdown",
   "metadata": {},
   "source": [
    "\"range(number)\" returns an iterable of numbers from zero to the given number"
   ]
  },
  {
   "cell_type": "code",
   "execution_count": 21,
   "metadata": {
    "scrolled": true
   },
   "outputs": [
    {
     "name": "stdout",
     "output_type": "stream",
     "text": [
      "[4, 9, 25, 49, 121, 169]\n"
     ]
    }
   ],
   "source": [
    "primes = [2,3,5,7,11,13]\n",
    "for i in range(len(primes)):\n",
    "    primes[i] **= 2\n",
    "print(primes)"
   ]
  },
  {
   "cell_type": "markdown",
   "metadata": {},
   "source": [
    "Using \"for i in range(n):\" we can also obtain the classical for loop\n",
    "\n",
    "for (int i = 0; i<n; i++){..."
   ]
  },
  {
   "cell_type": "code",
   "execution_count": 22,
   "metadata": {},
   "outputs": [
    {
     "name": "stdout",
     "output_type": "stream",
     "text": [
      "0\n",
      "1\n",
      "2\n",
      "3\n",
      "\n",
      "\n",
      "4\n",
      "5\n",
      "6\n",
      "7\n",
      "\n",
      "\n",
      "4\n",
      "6\n",
      "\n",
      "\n"
     ]
    }
   ],
   "source": [
    "for i in range(4): #=> 0 1 2 3\n",
    "    print(i)\n",
    "print('\\n')\n",
    "\n",
    "for i in range(4, 8): #=> 4 5 6 7\n",
    "    print(i)\n",
    "print('\\n')\n",
    "\n",
    "for i in range(4, 8, 2): #=> 4 6\n",
    "    print(i)\n",
    "print('\\n')\n"
   ]
  },
  {
   "cell_type": "markdown",
   "metadata": {},
   "source": [
    "To loop over two lists at the same time use **zip()**"
   ]
  },
  {
   "cell_type": "code",
   "execution_count": 97,
   "metadata": {},
   "outputs": [
    {
     "name": "stdout",
     "output_type": "stream",
     "text": [
      "<zip object at 0x7f5f1c3429c0> [(3, 9), (4, 7), (5, 1)]\n",
      "3 9\n",
      "4 7\n",
      "5 1\n"
     ]
    }
   ],
   "source": [
    "list_a = [3,4,5]\n",
    "list_b = [9,7,1]\n",
    "zip_ab = zip(list_a, list_b)\n",
    "# print(zip_ab, list(zip_ab))\n",
    "for first, second in zip(list_a, list_b):\n",
    "    print(first, second)"
   ]
  },
  {
   "cell_type": "markdown",
   "metadata": {},
   "source": [
    "**enumerate()** returns the index and element of a list"
   ]
  },
  {
   "cell_type": "code",
   "execution_count": 98,
   "metadata": {},
   "outputs": [
    {
     "name": "stdout",
     "output_type": "stream",
     "text": [
      "<enumerate object at 0x7f5f1f7df1c0> [(0, 'fortran'), (1, 'windows'), (2, 'ide with white backgrounds')]\n",
      "['I like fortran', 'I like windows', 'I like ide with white backgrounds']\n"
     ]
    }
   ],
   "source": [
    "my_list = ['fortran', 'windows', 'ide with white backgrounds']\n",
    "enum_l = enumerate(my_list)\n",
    "print(enum_l, list(enum_l))\n",
    "for index, element in enumerate(my_list):\n",
    "    my_list[index] = 'I like ' + element\n",
    "print(my_list)"
   ]
  },
  {
   "cell_type": "markdown",
   "metadata": {},
   "source": [
    "## Control Flows"
   ]
  },
  {
   "cell_type": "markdown",
   "metadata": {},
   "source": [
    "### Break"
   ]
  },
  {
   "cell_type": "markdown",
   "metadata": {},
   "source": [
    "Ends the loop prematurely."
   ]
  },
  {
   "cell_type": "code",
   "execution_count": 25,
   "metadata": {},
   "outputs": [
    {
     "name": "stdout",
     "output_type": "stream",
     "text": [
      "21 6\n"
     ]
    }
   ],
   "source": [
    "x = 0\n",
    "for i in range(1,10):\n",
    "    x += i\n",
    "    if x > 20:\n",
    "        print(x, i)\n",
    "        break"
   ]
  },
  {
   "cell_type": "markdown",
   "metadata": {},
   "source": [
    "### Continue"
   ]
  },
  {
   "cell_type": "markdown",
   "metadata": {},
   "source": [
    "Skip the remaining code and go to the next iteration."
   ]
  },
  {
   "cell_type": "code",
   "execution_count": 26,
   "metadata": {},
   "outputs": [
    {
     "name": "stdout",
     "output_type": "stream",
     "text": [
      "[1.0, 0.16666666666666666, 1.0, 0, 0.14285714285714285, 0.25]\n"
     ]
    }
   ],
   "source": [
    "x = [1,6,1,0,7,4]\n",
    "for i, el in enumerate(x):\n",
    "    if el == 0:\n",
    "        continue\n",
    "    x[i] = 1/el\n",
    "print(x)\n",
    "    "
   ]
  },
  {
   "cell_type": "markdown",
   "metadata": {},
   "source": [
    "### For Else"
   ]
  },
  {
   "cell_type": "markdown",
   "metadata": {},
   "source": [
    "Pretty unique to python. Executes when no **break** is called inside the for loop."
   ]
  },
  {
   "cell_type": "code",
   "execution_count": 27,
   "metadata": {},
   "outputs": [
    {
     "name": "stdout",
     "output_type": "stream",
     "text": [
      "5 not in the list\n"
     ]
    }
   ],
   "source": [
    "my_list = [9,4,1,7,4,9,2]\n",
    "for index, element in enumerate(my_list):\n",
    "    if element == 5:\n",
    "        print('Index {} is 5'.format(index))\n",
    "        break\n",
    "else:\n",
    "    print('5 not in the list')"
   ]
  },
  {
   "cell_type": "markdown",
   "metadata": {},
   "source": [
    "## While Loops"
   ]
  },
  {
   "cell_type": "markdown",
   "metadata": {},
   "source": [
    "while loops in Python are pretty similar to most programming languages. However they are not used that often in python compared to for loops."
   ]
  },
  {
   "cell_type": "code",
   "execution_count": 28,
   "metadata": {},
   "outputs": [
    {
     "name": "stdout",
     "output_type": "stream",
     "text": [
      "0\n",
      "1\n",
      "2\n",
      "3\n",
      "\n",
      "\n",
      "21 6\n"
     ]
    }
   ],
   "source": [
    "x = 0\n",
    "while x < 4: # 0 1 2 3\n",
    "    print(x)\n",
    "    x += 1\n",
    "print('\\n')\n",
    "\n",
    "x = 0\n",
    "i = 0\n",
    "while x < 20:\n",
    "    i += 1\n",
    "    x += i\n",
    "print(x, i)"
   ]
  },
  {
   "cell_type": "markdown",
   "metadata": {},
   "source": [
    "## Tuples"
   ]
  },
  {
   "cell_type": "markdown",
   "metadata": {},
   "source": [
    "Tuples are like lists but are immutable."
   ]
  },
  {
   "cell_type": "code",
   "execution_count": 29,
   "metadata": {},
   "outputs": [
    {
     "name": "stdout",
     "output_type": "stream",
     "text": [
      "1\n"
     ]
    }
   ],
   "source": [
    "tup = (1, 2, 3)\n",
    "print(tup[0])      # => 1\n",
    "#tup[0] = 3  # Raises a TypeError"
   ]
  },
  {
   "cell_type": "markdown",
   "metadata": {},
   "source": [
    "Tuples are useful when your data has 'structure'."
   ]
  },
  {
   "cell_type": "code",
   "execution_count": 30,
   "metadata": {},
   "outputs": [
    {
     "name": "stdout",
     "output_type": "stream",
     "text": [
      "1 2 3\n",
      "1 2 3\n",
      "4 5 6\n",
      "5 4\n"
     ]
    }
   ],
   "source": [
    "# You can unpack tuples (or lists) into variables\n",
    "a, b, c = (1, 2, 3)  # a is now 1, b is now 2 and c is now 3\n",
    "print(a, b, c)\n",
    "a, b, c = [1, 2, 3]\n",
    "print(a, b, c)\n",
    "\n",
    "# Tuples are created by default if you leave out the parentheses\n",
    "d, e, f = 4, 5, 6\n",
    "print(d, e, f)\n",
    "\n",
    "# Now look how easy it is to swap two values\n",
    "e, d = d, e  # d is now 5 and e is now 4\n",
    "print(d, e)"
   ]
  },
  {
   "cell_type": "markdown",
   "metadata": {},
   "source": [
    "A \"*\" in front of a variable on the left side means to receive all the extra terms as parse it as a list"
   ]
  },
  {
   "cell_type": "code",
   "execution_count": 31,
   "metadata": {
    "scrolled": true
   },
   "outputs": [
    {
     "name": "stdout",
     "output_type": "stream",
     "text": [
      "1 [2, 3] 4\n"
     ]
    }
   ],
   "source": [
    "# You can also do extended unpacking\n",
    "a, *b, c = (1, 2, 3, 4)  # a is now 1, b is now [2, 3] and c is now 4\n",
    "print(a, b, c)\n"
   ]
  },
  {
   "cell_type": "markdown",
   "metadata": {},
   "source": [
    "## Functions"
   ]
  },
  {
   "cell_type": "markdown",
   "metadata": {},
   "source": [
    "Use \"def\" to create new functions"
   ]
  },
  {
   "cell_type": "code",
   "execution_count": 32,
   "metadata": {},
   "outputs": [
    {
     "name": "stdout",
     "output_type": "stream",
     "text": [
      "x is 5 and y is 6\n",
      "11\n"
     ]
    }
   ],
   "source": [
    "def add(x, y):\n",
    "    print(\"x is {} and y is {}\".format(x, y))\n",
    "    return x + y  # Return values with a return statement\n",
    "\n",
    "#prints out \"x is 5 and y is 6\" and returns 11\n",
    "results = add(5, 6)\n",
    "print(results)"
   ]
  },
  {
   "cell_type": "markdown",
   "metadata": {},
   "source": [
    "Another way to call functions is with keyword arguments. Keyword arguments can arrive in any order."
   ]
  },
  {
   "cell_type": "code",
   "execution_count": 33,
   "metadata": {},
   "outputs": [
    {
     "name": "stdout",
     "output_type": "stream",
     "text": [
      "x is 5 and y is 6\n",
      "11\n"
     ]
    }
   ],
   "source": [
    "print(add(y=6, x=5))"
   ]
  },
  {
   "cell_type": "markdown",
   "metadata": {},
   "source": [
    "A \"*\" in front of a input means to distribute the tuple/list to all arguments in order"
   ]
  },
  {
   "cell_type": "code",
   "execution_count": 34,
   "metadata": {},
   "outputs": [
    {
     "name": "stdout",
     "output_type": "stream",
     "text": [
      "x is 1 and y is 2\n",
      "3\n",
      "x is 1 and y is 2\n",
      "3\n"
     ]
    }
   ],
   "source": [
    "inputs = (1,2)\n",
    "print(add(*inputs))\n",
    "\n",
    "inputs = [1,2]\n",
    "print(add(*inputs))"
   ]
  },
  {
   "cell_type": "markdown",
   "metadata": {},
   "source": [
    "A \"*\" in front of an argument means to recieve a variable amount of inputs and parse it as a tuple"
   ]
  },
  {
   "cell_type": "code",
   "execution_count": 35,
   "metadata": {},
   "outputs": [
    {
     "name": "stdout",
     "output_type": "stream",
     "text": [
      "(1, 2, 3)\n"
     ]
    }
   ],
   "source": [
    "def varargs(*args):\n",
    "    print(args)\n",
    "varargs(1, 2, 3)  # => (1, 2, 3)"
   ]
  },
  {
   "cell_type": "markdown",
   "metadata": {},
   "source": [
    "## Libraries"
   ]
  },
  {
   "cell_type": "code",
   "execution_count": 36,
   "metadata": {},
   "outputs": [
    {
     "name": "stdout",
     "output_type": "stream",
     "text": [
      "4.0\n"
     ]
    }
   ],
   "source": [
    "import math\n",
    "print(math.sqrt(16))  # => 4.0"
   ]
  },
  {
   "cell_type": "code",
   "execution_count": 37,
   "metadata": {},
   "outputs": [
    {
     "name": "stdout",
     "output_type": "stream",
     "text": [
      "4\n",
      "3\n"
     ]
    }
   ],
   "source": [
    "# You can get specific functions from a module\n",
    "from math import ceil, floor\n",
    "print(ceil(3.7))   # => 4\n",
    "print(floor(3.7))  # => 3"
   ]
  },
  {
   "cell_type": "code",
   "execution_count": 38,
   "metadata": {},
   "outputs": [
    {
     "name": "stdout",
     "output_type": "stream",
     "text": [
      "2.8284271247461903\n"
     ]
    }
   ],
   "source": [
    "# You can import all functions from a module.\n",
    "# Warning: this is not recommended\n",
    "from math import *\n",
    "print(sqrt(8))"
   ]
  },
  {
   "cell_type": "code",
   "execution_count": 39,
   "metadata": {},
   "outputs": [
    {
     "name": "stdout",
     "output_type": "stream",
     "text": [
      "4.0\n"
     ]
    }
   ],
   "source": [
    "# You can shorten module names\n",
    "import math as m\n",
    "print(m.sqrt(16))"
   ]
  },
  {
   "cell_type": "markdown",
   "metadata": {},
   "source": [
    "## Exercises"
   ]
  },
  {
   "cell_type": "markdown",
   "metadata": {},
   "source": [
    "Write a function that calculate exponents for positive integer powers without using the ** operator.\n",
    "\n",
    "\n",
    "e.g. 64 == exp(2, 6) #Evaluates to True\n"
   ]
  },
  {
   "cell_type": "code",
   "execution_count": null,
   "metadata": {},
   "outputs": [],
   "source": []
  },
  {
   "cell_type": "markdown",
   "metadata": {},
   "source": [
    "Write a function that prints the Fibonacci sequence to the nth element for some input n. Don’t mind the exact output format, but here is an example.\n",
    "\n",
    "fib(8)\n",
    "\n",
    "\n",
    "Output: 1, 1, 2, 3, 5, 8, 13, 21"
   ]
  },
  {
   "cell_type": "code",
   "execution_count": null,
   "metadata": {},
   "outputs": [],
   "source": []
  },
  {
   "cell_type": "markdown",
   "metadata": {},
   "source": [
    "## Objects"
   ]
  },
  {
   "cell_type": "markdown",
   "metadata": {},
   "source": [
    "Objects are like people. They’re living, breathing things that have knowledge inside them about how to do things and have memory inside them so they can remember things. And rather than interacting with them at a very low level, you interact with them at a very high level of abstraction\n",
    "\n",
    "Functions with style like \\__init__ are special functions and should not be arbitary named. Each of them serve a special purpose"
   ]
  },
  {
   "cell_type": "code",
   "execution_count": 40,
   "metadata": {},
   "outputs": [
    {
     "name": "stdout",
     "output_type": "stream",
     "text": [
      "1\n",
      "6\n",
      "11\n",
      "10\n"
     ]
    }
   ],
   "source": [
    "class Particle(): # CamelCase by convention\n",
    "    name = \"neutron\"\n",
    "\n",
    "    def __init__(self, x, y, vx, vy):\n",
    "        self.x = x\n",
    "        self.y = y\n",
    "        self.vx = vx\n",
    "        self.vy = vy\n",
    "\n",
    "    def move_right(self, distance):\n",
    "        self.x += distance\n",
    "\n",
    "    # A property is just like a getter.\n",
    "    # It turns the method mass() into an read-only attribute of the same name.\n",
    "    # There's no need to write trivial getters and setters in Python, though.\n",
    "    @property\n",
    "    def energy(self):\n",
    "        return self._energy\n",
    "\n",
    "    # This decorator allows the property to be set\n",
    "    @energy.setter\n",
    "    def energy(self, energy):\n",
    "        assert energy>0, \"Energy must be larger than zero\" # Don’t argue, this is the relativistic energy \n",
    "        self._energy = energy\n",
    "\n",
    "    # This decorator allows the property to be deleted\n",
    "    @energy.deleter\n",
    "    def energy(self):\n",
    "        del self._energy\n",
    "\n",
    "   # particle_a and particle_b are instances of type Particle, or in other words: they are Particle objects\n",
    "particle_a = Particle(1,2,3,4)\n",
    "particle_b = Particle(5,6,7,8)\n",
    "print(particle_a.x) #=> 1\n",
    "print(particle_b.y) #=> 6\n",
    "\n",
    "particle_a.move_right(10)\n",
    "print(particle_a.x) #=> 11\n",
    "\n",
    "particle_a.energy = 10\n",
    "print(particle_a.energy) #=> 10\n",
    "\n",
    "#particle_a.energy = 0 #=> assertion Error: Energy must be larger than zero"
   ]
  },
  {
   "cell_type": "markdown",
   "metadata": {},
   "source": [
    "## Object Reference (Optional)"
   ]
  },
  {
   "cell_type": "markdown",
   "metadata": {},
   "source": [
    "Object reference are like names. Lets say we have someone. He will have a body. To refer to that body we give him a name like 'Bob'. We can also give him another name like 'son'. It can take on many names but the body does not change. So name is an object reference (like variable names). Body is an object."
   ]
  },
  {
   "cell_type": "markdown",
   "metadata": {},
   "source": [
    "In python, variables are object references. It points to some object at some memory address but it itself is not the object or the value. Lets see an example:"
   ]
  },
  {
   "cell_type": "code",
   "execution_count": 41,
   "metadata": {},
   "outputs": [],
   "source": [
    "x = 2"
   ]
  },
  {
   "cell_type": "markdown",
   "metadata": {},
   "source": [
    "Here, __x__ is an referencing an object which holds a value of 2.\n",
    "\n",
    "![x_reference](img/x_reference.png)\n",
    "\n",
    "Every object has an unique id. When two ids are the same that means they're referencing the same object. Now lets see how one object can have many names."
   ]
  },
  {
   "cell_type": "code",
   "execution_count": 42,
   "metadata": {},
   "outputs": [
    {
     "name": "stdout",
     "output_type": "stream",
     "text": [
      "140046526927632\n",
      "140046526927632\n"
     ]
    }
   ],
   "source": [
    "i = 1337\n",
    "bob = i\n",
    "print(id(i))\n",
    "print(id(bob))"
   ]
  },
  {
   "cell_type": "markdown",
   "metadata": {},
   "source": [
    "### Everything is an object in Python"
   ]
  },
  {
   "cell_type": "markdown",
   "metadata": {},
   "source": [
    "It means exactly what it means. Even integers, functions, strings, modules, the + operator, etc...\n",
    "\n",
    "Lets try defining a function."
   ]
  },
  {
   "cell_type": "code",
   "execution_count": 43,
   "metadata": {},
   "outputs": [
    {
     "name": "stdout",
     "output_type": "stream",
     "text": [
      "<function one at 0x7f5f1f6f4670>\n"
     ]
    }
   ],
   "source": [
    "def one():\n",
    "    return 1\n",
    "\n",
    "print(one)"
   ]
  },
  {
   "cell_type": "markdown",
   "metadata": {},
   "source": [
    "Here __one__ is a variable referencing a function. That's why it's printing the address of the function."
   ]
  },
  {
   "cell_type": "markdown",
   "metadata": {},
   "source": [
    "An object will have functions and variables. To check them we will use the __dir()__ function"
   ]
  },
  {
   "cell_type": "code",
   "execution_count": 44,
   "metadata": {},
   "outputs": [
    {
     "data": {
      "text/plain": [
       "['__abs__',\n",
       " '__add__',\n",
       " '__and__',\n",
       " '__bool__',\n",
       " '__ceil__',\n",
       " '__class__',\n",
       " '__delattr__',\n",
       " '__dir__',\n",
       " '__divmod__',\n",
       " '__doc__',\n",
       " '__eq__',\n",
       " '__float__',\n",
       " '__floor__',\n",
       " '__floordiv__',\n",
       " '__format__',\n",
       " '__ge__',\n",
       " '__getattribute__',\n",
       " '__getnewargs__',\n",
       " '__gt__',\n",
       " '__hash__',\n",
       " '__index__',\n",
       " '__init__',\n",
       " '__init_subclass__',\n",
       " '__int__',\n",
       " '__invert__',\n",
       " '__le__',\n",
       " '__lshift__',\n",
       " '__lt__',\n",
       " '__mod__',\n",
       " '__mul__',\n",
       " '__ne__',\n",
       " '__neg__',\n",
       " '__new__',\n",
       " '__or__',\n",
       " '__pos__',\n",
       " '__pow__',\n",
       " '__radd__',\n",
       " '__rand__',\n",
       " '__rdivmod__',\n",
       " '__reduce__',\n",
       " '__reduce_ex__',\n",
       " '__repr__',\n",
       " '__rfloordiv__',\n",
       " '__rlshift__',\n",
       " '__rmod__',\n",
       " '__rmul__',\n",
       " '__ror__',\n",
       " '__round__',\n",
       " '__rpow__',\n",
       " '__rrshift__',\n",
       " '__rshift__',\n",
       " '__rsub__',\n",
       " '__rtruediv__',\n",
       " '__rxor__',\n",
       " '__setattr__',\n",
       " '__sizeof__',\n",
       " '__str__',\n",
       " '__sub__',\n",
       " '__subclasshook__',\n",
       " '__truediv__',\n",
       " '__trunc__',\n",
       " '__xor__',\n",
       " 'as_integer_ratio',\n",
       " 'bit_count',\n",
       " 'bit_length',\n",
       " 'conjugate',\n",
       " 'denominator',\n",
       " 'from_bytes',\n",
       " 'imag',\n",
       " 'numerator',\n",
       " 'real',\n",
       " 'to_bytes']"
      ]
     },
     "execution_count": 44,
     "metadata": {},
     "output_type": "execute_result"
    }
   ],
   "source": [
    "dir(1337)"
   ]
  },
  {
   "cell_type": "markdown",
   "metadata": {},
   "source": [
    "Here we see that there are a lot of functions defined inside the object. Not all of them are useful. Printing them will show that it is indeed a function of an object."
   ]
  },
  {
   "cell_type": "code",
   "execution_count": 45,
   "metadata": {},
   "outputs": [
    {
     "name": "stdout",
     "output_type": "stream",
     "text": [
      "<method-wrapper '__add__' of int object at 0x7f5f1f7d5530>\n"
     ]
    }
   ],
   "source": [
    "print((1337).__add__)"
   ]
  },
  {
   "cell_type": "markdown",
   "metadata": {},
   "source": [
    "Now see how '+' is also an object by understanding \\__add__.\n",
    "\n",
    "When python evaluates x + y, it will actually call x.\\__add__(y)."
   ]
  },
  {
   "cell_type": "code",
   "execution_count": 46,
   "metadata": {},
   "outputs": [
    {
     "name": "stdout",
     "output_type": "stream",
     "text": [
      "7\n",
      "7\n"
     ]
    }
   ],
   "source": [
    "print(3 + 4)\n",
    "print((3).__add__(4))"
   ]
  },
  {
   "cell_type": "markdown",
   "metadata": {},
   "source": [
    "So \\__add__ implements the + operator and so + is a function object.\n",
    "\n",
    "We can actually implement + by ourselves."
   ]
  },
  {
   "cell_type": "code",
   "execution_count": 47,
   "metadata": {},
   "outputs": [],
   "source": [
    "class my_array(object):\n",
    "    def __init__(self, x):\n",
    "        self.value = x\n",
    "        \n",
    "    def __add__(self, x):\n",
    "        assert len(self.value) == len(x)\n",
    "        output = []\n",
    "        for i, _ in enumerate(self.value):\n",
    "            output.append(self.value[i] + x.value[i])\n",
    "        return output\n",
    "    \n",
    "    def __len__(self):\n",
    "        return len(self.value)"
   ]
  },
  {
   "cell_type": "code",
   "execution_count": 48,
   "metadata": {},
   "outputs": [
    {
     "name": "stdout",
     "output_type": "stream",
     "text": [
      "[5, 7, 9]\n"
     ]
    }
   ],
   "source": [
    "a = my_array([1,2,3])\n",
    "b = my_array([4,5,6])\n",
    "\n",
    "print(a+b)"
   ]
  },
  {
   "cell_type": "markdown",
   "metadata": {},
   "source": [
    "### Lists with Object References"
   ]
  },
  {
   "cell_type": "markdown",
   "metadata": {},
   "source": [
    "List itself is an object that contains object references of its elements."
   ]
  },
  {
   "cell_type": "code",
   "execution_count": 49,
   "metadata": {},
   "outputs": [],
   "source": [
    "a = [81, 82, 83]"
   ]
  },
  {
   "cell_type": "markdown",
   "metadata": {},
   "source": []
  },
  {
   "cell_type": "markdown",
   "metadata": {},
   "source": [
    "![list](img/list.png)"
   ]
  },
  {
   "cell_type": "markdown",
   "metadata": {},
   "source": [
    "This give rise to non-trivial results"
   ]
  },
  {
   "cell_type": "code",
   "execution_count": 50,
   "metadata": {},
   "outputs": [
    {
     "name": "stdout",
     "output_type": "stream",
     "text": [
      "140046525689856\n",
      "140046525689856\n"
     ]
    }
   ],
   "source": [
    "a = [81, 82, 83]\n",
    "b = a\n",
    "print(id(a))\n",
    "print(id(b))"
   ]
  },
  {
   "cell_type": "markdown",
   "metadata": {},
   "source": [
    "You can see that __a__ and __b__ refers to the same object. Let's see how changing the value of __a__ affects __b__. "
   ]
  },
  {
   "cell_type": "code",
   "execution_count": 51,
   "metadata": {},
   "outputs": [
    {
     "name": "stdout",
     "output_type": "stream",
     "text": [
      "[81, 100, 83]\n",
      "[81, 100, 83]\n"
     ]
    }
   ],
   "source": [
    "a[1] = 100\n",
    "print(a)\n",
    "print(b)"
   ]
  },
  {
   "cell_type": "markdown",
   "metadata": {},
   "source": [
    "You can see that modifying __a__ modifies __b__ too. \n",
    "\n",
    "This is not the case for integers."
   ]
  },
  {
   "cell_type": "code",
   "execution_count": 52,
   "metadata": {},
   "outputs": [
    {
     "name": "stdout",
     "output_type": "stream",
     "text": [
      "a: 20\n",
      "b: 10\n"
     ]
    }
   ],
   "source": [
    "a = 10\n",
    "b = a\n",
    "a = 20\n",
    "print('a:', a)\n",
    "print('b:', b)"
   ]
  },
  {
   "cell_type": "markdown",
   "metadata": {},
   "source": [
    "### Passing by object references"
   ]
  },
  {
   "cell_type": "markdown",
   "metadata": {},
   "source": [
    "If you're familiar with other languages like 'C', you might be wondering if functions in Python are 'pass by value' or 'pass by reference'. Now I can answer that python functions are 'pass by object reference'. Meaning that it passes the reference of the input object."
   ]
  },
  {
   "cell_type": "code",
   "execution_count": 53,
   "metadata": {
    "scrolled": true
   },
   "outputs": [
    {
     "name": "stdout",
     "output_type": "stream",
     "text": [
      "[1, 2, 3]\n",
      "[10, 2, 3]\n",
      "1\n"
     ]
    }
   ],
   "source": [
    "def f1(x):\n",
    "    #x points to another new list\n",
    "    #The original input will not be modified.\n",
    "    x = [3,2,1]\n",
    "\n",
    "def f2(x):\n",
    "    #Changing the 0th element to 10\n",
    "    #x still points to the same input list, \n",
    "    #but modifies its element to a new '10'\n",
    "    x[0] = 10\n",
    "\n",
    "def f3(x):\n",
    "    #Now x points to a new number\n",
    "    x = 10\n",
    "    \n",
    "#Unchanged\n",
    "a = [1,2,3]\n",
    "f1(a)\n",
    "print(a) #=> [1,2,3]\n",
    "  \n",
    "#Changed\n",
    "b = [1,2,3]\n",
    "f2(b)\n",
    "print(b) #=> [10,2,3]\n",
    "\n",
    "#Unchanged\n",
    "x = 1\n",
    "f3(x)\n",
    "print(x) #=> 1"
   ]
  },
  {
   "cell_type": "markdown",
   "metadata": {},
   "source": [
    "## Exercise Answers"
   ]
  },
  {
   "cell_type": "code",
   "execution_count": 54,
   "metadata": {},
   "outputs": [
    {
     "name": "stdout",
     "output_type": "stream",
     "text": [
      "True\n"
     ]
    }
   ],
   "source": [
    "def exp(base, power):\n",
    "    ans = 1\n",
    "    for _ in range(power):\n",
    "        ans *= base\n",
    "    return ans \n",
    "\n",
    "print(64 == exp(2,6))"
   ]
  },
  {
   "cell_type": "code",
   "execution_count": 55,
   "metadata": {
    "scrolled": true
   },
   "outputs": [
    {
     "name": "stdout",
     "output_type": "stream",
     "text": [
      "1\n",
      "1\n",
      "2\n",
      "3\n",
      "5\n",
      "8\n",
      "13\n",
      "21\n"
     ]
    }
   ],
   "source": [
    "def fibo(n):\n",
    "    a = 1\n",
    "    b = 1\n",
    "    for _ in range(n):  #_ is a convention for receiving useless returns\n",
    "        print(a)\n",
    "        a, b = b, a+b\n",
    "\n",
    "fibo(8)"
   ]
  },
  {
   "cell_type": "markdown",
   "metadata": {},
   "source": [
    "# Numpy"
   ]
  },
  {
   "cell_type": "markdown",
   "metadata": {},
   "source": [
    "Numpy is a python library for doing scientific computing. It provides simplistic syntax and high performance array objects. If you're familiar with MATLAB you will find the syntax familiar."
   ]
  },
  {
   "cell_type": "markdown",
   "metadata": {},
   "source": [
    "### How does numpy provides such high performance"
   ]
  },
  {
   "cell_type": "markdown",
   "metadata": {},
   "source": [
    "Locality of reference\n",
    "\n",
    "- Lists: Array of pointers to object. (Everything in Python is an object!)\n",
    "\n",
    "- Numpy Arrays: Like C, densely packed arrays of homogeneous type.  \n",
    "\n",
    "- Vectorized operations are supported.\n",
    "\n",
    "Numpy operations are implemented in C\n",
    "\n",
    "- C is faster\n",
    "\n",
    "- No pointer indirection and per-element dynamic type checking like python.\n",
    "\n",
    "\n"
   ]
  },
  {
   "cell_type": "markdown",
   "metadata": {},
   "source": [
    "## Array Declaration"
   ]
  },
  {
   "cell_type": "code",
   "execution_count": 56,
   "metadata": {},
   "outputs": [
    {
     "name": "stdout",
     "output_type": "stream",
     "text": [
      "a shape: (3,)\n",
      "a: [1 2 3]\n",
      "b shape: (2, 3)\n",
      "b: [[1 2 3]\n",
      " [4 5 6]]\n"
     ]
    }
   ],
   "source": [
    "import numpy as np # Convention\n",
    "\n",
    "a = np.array([1, 2, 3])   # Create a rank 1 array\n",
    "print('a shape:', a.shape)            # Prints \"(3,)\"\n",
    "print('a:', a)                  # Prints \"[5, 2, 3]\"\n",
    "\n",
    "b = np.array([[1,2,3],[4,5,6]])    # Create a rank 2 array\n",
    "print('b shape:', b.shape)                     # Prints \"(2, 3)\"\n",
    "print('b:', b)"
   ]
  },
  {
   "cell_type": "markdown",
   "metadata": {},
   "source": [
    "## Accessing Arrays"
   ]
  },
  {
   "cell_type": "markdown",
   "metadata": {},
   "source": [
    "### Accesing Elements"
   ]
  },
  {
   "cell_type": "code",
   "execution_count": 57,
   "metadata": {},
   "outputs": [
    {
     "name": "stdout",
     "output_type": "stream",
     "text": [
      "1 2 3\n",
      "[5 2 3]\n",
      "1 2 4\n",
      "1 2 4\n"
     ]
    }
   ],
   "source": [
    "a = np.array([1, 2, 3])\n",
    "b = np.array([[1,2,3],[4,5,6]])\n",
    "\n",
    "print(a[0], a[1], a[2])   # Prints \"1 2 3\"\n",
    "a[0] = 5                  # Change an element of the array\n",
    "print(a)\n",
    "\n",
    "print(b[0, 0], b[0, 1], b[1, 0])   # Prints \"1 2 4\"\n",
    "print(b[0][0], b[0][1], b[1][0])   # Prints \"1 2 4\", \n",
    "# slower as b[0,0] gets the element in one go, but b[0][0] works by returning b[0] then get [0] of b[0]"
   ]
  },
  {
   "cell_type": "markdown",
   "metadata": {},
   "source": [
    "### Slicing"
   ]
  },
  {
   "cell_type": "code",
   "execution_count": 94,
   "metadata": {},
   "outputs": [
    {
     "name": "stdout",
     "output_type": "stream",
     "text": [
      "[0, 1, 2, 3, 4, 5, 6, 7, 8, 9]\n",
      "[0, 2, 4, 6, 8]\n",
      "[1, 4]\n"
     ]
    }
   ],
   "source": [
    "# Syntax for slicing\n",
    "# [start:end:step]\n",
    "foo_list = list(range(0, 10))\n",
    "print(foo_list)\n",
    "print(foo_list[::2])\n",
    "print(foo_list[1:5:3])"
   ]
  },
  {
   "cell_type": "code",
   "execution_count": 58,
   "metadata": {},
   "outputs": [
    {
     "name": "stdout",
     "output_type": "stream",
     "text": [
      "[[ 1  2  3  4]\n",
      " [ 5  6  7  8]\n",
      " [ 9 10 11 12]]\n",
      "[5 6 7 8] (4,)\n",
      "[[ 2  3]\n",
      " [ 6  7]\n",
      " [10 11]] (3, 2)\n"
     ]
    }
   ],
   "source": [
    "# Create the following rank 2 array with shape (3, 4)\n",
    "# [[ 1  2  3  4]\n",
    "#  [ 5  6  7  8]\n",
    "#  [ 9 10 11 12]]\n",
    "a = np.array([[1,2,3,4], [5,6,7,8], [9,10,11,12]])\n",
    "print(a)\n",
    "row_r1 = a[1, :]    # Rank 1 view of the second row of a\n",
    "col_r2 = a[:, 1:3]\n",
    "print(row_r1, row_r1.shape)  # Prints \"[5 6 7 8] (4,)\"\n",
    "print(col_r2, col_r2.shape)  # Prints \"[[ 2 3]\n",
    "                             #          [ 6 7]\n",
    "                             #          [10 11]] (3, 2)\""
   ]
  },
  {
   "cell_type": "code",
   "execution_count": 59,
   "metadata": {},
   "outputs": [
    {
     "name": "stdout",
     "output_type": "stream",
     "text": [
      "[9 8 7 6 5 4 3 2 1]\n"
     ]
    }
   ],
   "source": [
    "# Indexing methods that work for lists also work for numpy arrays.\n",
    "a = np.array([[1,2,3,4], [5,6,7,8], [9,10,11,12]])\n",
    "b = np.array([1,2,3,4,5,6,7,8,9])\n",
    "print(b[::-1])\n",
    "#prints [9 8 7 6 5 4 3 2 1]"
   ]
  },
  {
   "cell_type": "markdown",
   "metadata": {},
   "source": [
    "### Integer Array Indexing"
   ]
  },
  {
   "cell_type": "code",
   "execution_count": 60,
   "metadata": {
    "scrolled": true
   },
   "outputs": [
    {
     "name": "stdout",
     "output_type": "stream",
     "text": [
      "[2 5]\n",
      "[1 4 5]\n"
     ]
    }
   ],
   "source": [
    "a = np.array([[1,2], [3, 4], [5, 6]])\n",
    "print(a[[0, 2], [1, 0]])  # Gives [a[0,1],a[2,0]] which is [2 5]\n",
    "print(a[[0, 1, 2], [0, 1, 0]])  # Prints \"[1 4 5]\""
   ]
  },
  {
   "cell_type": "markdown",
   "metadata": {},
   "source": [
    "## Array Maths"
   ]
  },
  {
   "cell_type": "markdown",
   "metadata": {},
   "source": [
    "### Elementwise operations"
   ]
  },
  {
   "cell_type": "code",
   "execution_count": 61,
   "metadata": {},
   "outputs": [
    {
     "name": "stdout",
     "output_type": "stream",
     "text": [
      "[[ 6.  8.]\n",
      " [10. 12.]]\n",
      "[[-4. -4.]\n",
      " [-4. -4.]]\n",
      "[[ 5. 12.]\n",
      " [21. 32.]]\n",
      "[[1.         1.41421356]\n",
      " [1.73205081 2.        ]]\n"
     ]
    }
   ],
   "source": [
    "x = np.array([[1.,2.],[3.,4.]])\n",
    "y = np.array([[5.,6.],[7.,8.]])\n",
    "\n",
    "# Elementwise sum;# [[ 6.0  8.0]\n",
    "#                    [10.0 12.0]]\n",
    "print(x + y)\n",
    "# Elementwise difference;\n",
    "# [[-4.0 -4.0]\n",
    "#  [-4.0 -4.0]]\n",
    "print(x - y)\n",
    "# Elementwise product;\n",
    "# [[ 5.0 12.0]\n",
    "#  [21.0 32.0]]\n",
    "print(x * y)\n",
    "# Elementwise square root;\n",
    "# [[ 1.          1.41421356]\n",
    "#  [ 1.73205081  2.        ]]\n",
    "print(np.sqrt(x))"
   ]
  },
  {
   "cell_type": "markdown",
   "metadata": {},
   "source": [
    "### Array Maths with Integer Array Indexing"
   ]
  },
  {
   "cell_type": "code",
   "execution_count": 62,
   "metadata": {},
   "outputs": [
    {
     "name": "stdout",
     "output_type": "stream",
     "text": [
      "[[1 2]\n",
      " [3 4]\n",
      " [5 6]]\n",
      "[1 4 5]\n",
      "[1 4 5]\n",
      "[[11  2]\n",
      " [ 3 14]\n",
      " [15  6]]\n"
     ]
    }
   ],
   "source": [
    "a = np.array([[1,2], [3, 4], [5, 6]])\n",
    "# Create an array of indices\n",
    "b = np.array([0, 1, 0])\n",
    "# Mutate one element from each row of a using the indices in b\n",
    "print(a)\n",
    "print(a[np.arange(3), b])\n",
    "print(a[[0,1,2], [0,1,0]])\n",
    "a[np.arange(3), b] += 10\n",
    "print(a)  # prints \"array([[11,  2],\n",
    "          #                [ 3, 14],\n",
    "          #                [15, 6]])"
   ]
  },
  {
   "cell_type": "markdown",
   "metadata": {},
   "source": [
    "### Boolean Array and Indexing"
   ]
  },
  {
   "cell_type": "code",
   "execution_count": 63,
   "metadata": {},
   "outputs": [
    {
     "name": "stdout",
     "output_type": "stream",
     "text": [
      "[[1 2]\n",
      " [3 4]\n",
      " [5 6]]\n",
      "[[False False]\n",
      " [ True  True]\n",
      " [ True  True]]\n",
      "[3 4 5 6]\n",
      "[3 4 5 6]\n"
     ]
    }
   ],
   "source": [
    "a = np.array([[1,2], [3, 4], [5, 6]])\n",
    "bool_idx = (a > 2)   # Find the elements of a that are bigger than 2;\n",
    "                     # this returns a numpy array of Booleans of the same\n",
    "                     # shape as a, where each slot of bool_idx tells\n",
    "                     # whether that element of a is > 2.\n",
    "print(a)\n",
    "print(bool_idx)      # Prints \"[[False False]\n",
    "                     #          [ True  True]\n",
    "                     #          [ True  True]]\"\n",
    "\n",
    "# We use boolean array indexing to construct a rank 1 array\n",
    "# consisting of the elements of a corresponding to the True values\n",
    "# of bool_idx\n",
    "print(a[bool_idx])  # Prints \"[3 4 5 6]\"\n",
    "\n",
    "# We can do all of the above in a single concise statement:\n",
    "print(a[a > 2])     # Prints \"[3 4 5 6]\""
   ]
  },
  {
   "cell_type": "markdown",
   "metadata": {},
   "source": [
    "### Matrix Products"
   ]
  },
  {
   "cell_type": "code",
   "execution_count": 64,
   "metadata": {},
   "outputs": [
    {
     "name": "stdout",
     "output_type": "stream",
     "text": [
      "219\n",
      "219\n",
      "219\n",
      "[29. 67.]\n",
      "[29. 67.]\n",
      "[29. 67.]\n",
      "[[19. 22.]\n",
      " [43. 50.]]\n",
      "[[19. 22.]\n",
      " [43. 50.]]\n",
      "[[19. 22.]\n",
      " [43. 50.]]\n"
     ]
    }
   ],
   "source": [
    "x = np.array([[1.,2.],[3.,4.]])\n",
    "v = np.array([9,10])\n",
    "w = np.array([11, 12])\n",
    "\n",
    "# Inner product of vectors; These 3 are equivalent\n",
    "print(v.dot(w))\n",
    "print(np.dot(v, w))\n",
    "print(v @ w) # @ indicates a matrix multiplication operator\n",
    "\n",
    "# Matrix / vector product; both produce the rank 1 array [29 67]\n",
    "print(x.dot(v))\n",
    "print(np.dot(x, v))\n",
    "print(x @ v)\n",
    "\n",
    "# Matrix / matrix product; both produce the rank 2 array\n",
    "# [[19 22]\n",
    "#  [43 50]]\n",
    "print(x.dot(y))\n",
    "print(np.dot(x, y))\n",
    "print(x @ y)"
   ]
  },
  {
   "cell_type": "markdown",
   "metadata": {},
   "source": [
    "### sum"
   ]
  },
  {
   "cell_type": "code",
   "execution_count": 65,
   "metadata": {},
   "outputs": [
    {
     "name": "stdout",
     "output_type": "stream",
     "text": [
      "10\n",
      "[4 6]\n",
      "[4 6]\n",
      "[[1 2]\n",
      " [3 4]]\n",
      "[[1 3]\n",
      " [2 4]]\n"
     ]
    }
   ],
   "source": [
    "x = np.array([[1,2],[3,4]])\n",
    "\n",
    "print(np.sum(x))  # Compute sum of all elements; prints \"10\"\n",
    "print(np.sum(x, axis=0))  # Compute sum of each column; prints \"[4 6]\".\n",
    "#Axis indicates the dimension to apply the operation along.\n",
    "print(x.sum(axis=0))  # Equivalent to np.sum(x, axis=0)\n",
    "\n",
    "print(x)    # Prints \"[[1 2]\n",
    "            #          [3 4]]\"\n",
    "print(x.T)  # Prints \"[[1 3]\n",
    "            #          [2 4]]\""
   ]
  },
  {
   "cell_type": "markdown",
   "metadata": {},
   "source": [
    "### arange"
   ]
  },
  {
   "cell_type": "markdown",
   "metadata": {},
   "source": [
    "Works like range, but returns a numpy array"
   ]
  },
  {
   "cell_type": "code",
   "execution_count": 66,
   "metadata": {},
   "outputs": [
    {
     "name": "stdout",
     "output_type": "stream",
     "text": [
      "[1 3 5 7 9]\n"
     ]
    }
   ],
   "source": [
    "print(np.arange(1,10,2)) # Prints [1 3 5 7 9]"
   ]
  },
  {
   "cell_type": "markdown",
   "metadata": {},
   "source": [
    "### Numpy Exercise"
   ]
  },
  {
   "cell_type": "markdown",
   "metadata": {},
   "source": [
    "Write a NumPy program to find the roots of the following polynomials. (Using quadratic formula)"
   ]
  },
  {
   "cell_type": "markdown",
   "metadata": {},
   "source": [
    "![list](img/quardratic_formula.jpg)"
   ]
  },
  {
   "cell_type": "markdown",
   "metadata": {},
   "source": [
    "x2 - 4x + 2."
   ]
  },
  {
   "cell_type": "code",
   "execution_count": 67,
   "metadata": {},
   "outputs": [],
   "source": [
    "# 3.414213562373095 0.5857864376269049\n"
   ]
  },
  {
   "cell_type": "markdown",
   "metadata": {},
   "source": [
    "Write a NumPy program to create a 8x8 matrix and fill it with a checkerboard pattern."
   ]
  },
  {
   "cell_type": "code",
   "execution_count": 68,
   "metadata": {},
   "outputs": [],
   "source": [
    "# Checkerboard pattern:\n",
    "# [[0 1 0 1 0 1 0 1]\n",
    "# ..........\n",
    "# [0 1 0 1 0 1 0 1]\n",
    "# [1 0 1 0 1 0 1 0]]"
   ]
  },
  {
   "cell_type": "markdown",
   "metadata": {},
   "source": [
    "### flatten"
   ]
  },
  {
   "cell_type": "markdown",
   "metadata": {},
   "source": [
    "Flattens high dimensional array in C order"
   ]
  },
  {
   "cell_type": "code",
   "execution_count": 69,
   "metadata": {},
   "outputs": [
    {
     "name": "stdout",
     "output_type": "stream",
     "text": [
      "[[1 2]\n",
      " [3 4]]\n",
      "[1 2 3 4]\n"
     ]
    }
   ],
   "source": [
    "x = np.array([[1,2],[3,4]])\n",
    "print(x)\n",
    "print(x.flatten())"
   ]
  },
  {
   "cell_type": "markdown",
   "metadata": {},
   "source": [
    "### einsum"
   ]
  },
  {
   "cell_type": "markdown",
   "metadata": {},
   "source": [
    "Useful for physics students in manipulating tensors."
   ]
  },
  {
   "cell_type": "code",
   "execution_count": 70,
   "metadata": {},
   "outputs": [
    {
     "data": {
      "text/plain": [
       "array([[4400., 4730.],\n",
       "       [4532., 4874.],\n",
       "       [4664., 5018.],\n",
       "       [4796., 5162.],\n",
       "       [4928., 5306.]])"
      ]
     },
     "execution_count": 70,
     "metadata": {},
     "output_type": "execute_result"
    }
   ],
   "source": [
    "a = np.arange(25).reshape(5,5)\n",
    "b = np.arange(5)\n",
    "np.einsum('ii', a) #60 #Add all diagonal entries, a_ii\n",
    "np.einsum('ii->i', a) #array([ 0,  6, 12, 18, 24]) #Get all diagonal entries, a_ii without summing\n",
    "np.einsum('ij,j', a, b) #array([ 30,  80, 130, 180, 230]) #a_ij b_j, Matrix vector multiplication\n",
    "a = np.arange(60.).reshape(3,4,5)\n",
    "b = np.arange(24.).reshape(4,3,2)\n",
    "np.einsum('ijk,jil->kl', a, b) #a_ijk b_jil -> c_kl, rank 3 tensor contraction\n",
    "#array([[ 4400.,  4730.],\n",
    "#       [ 4532.,  4874.],\n",
    "#       [ 4664.,  5018.],\n",
    "#       [ 4796.,  5162.],\n",
    "#       [ 4928.,  5306.]])"
   ]
  },
  {
   "cell_type": "markdown",
   "metadata": {},
   "source": [
    "## Array Broadcasting"
   ]
  },
  {
   "cell_type": "markdown",
   "metadata": {},
   "source": [
    "![Broadcasting](img/broadcasting.png)"
   ]
  },
  {
   "cell_type": "code",
   "execution_count": 90,
   "metadata": {},
   "outputs": [
    {
     "name": "stdout",
     "output_type": "stream",
     "text": [
      "First case:\n",
      "[[ 0  0  0]\n",
      " [10 10 10]\n",
      " [20 20 20]\n",
      " [30 30 30]]\n",
      "[[0 1 2]\n",
      " [0 1 2]\n",
      " [0 1 2]\n",
      " [0 1 2]]\n",
      "[[ 0  1  2]\n",
      " [10 11 12]\n",
      " [20 21 22]\n",
      " [30 31 32]]\n",
      "Second case:\n",
      "[[ 0  1  2]\n",
      " [10 11 12]\n",
      " [20 21 22]\n",
      " [30 31 32]]\n",
      "Third case:\n",
      "[[ 0]\n",
      " [10]\n",
      " [20]\n",
      " [30]]\n",
      "[[0 1 2]]\n",
      "[[ 0  1  2]\n",
      " [10 11 12]\n",
      " [20 21 22]\n",
      " [30 31 32]]\n"
     ]
    }
   ],
   "source": [
    "\n",
    "a = np.array([[0], [10], [20], [30]])\n",
    "b = np.array([[0, 1, 2]])\n",
    "# First case\n",
    "a1 = np.concatenate((a, a, a), axis=1)\n",
    "b1 = np.concatenate((b, b, b, b), axis=0)\n",
    "print(\"First case:\")\n",
    "print(a1)\n",
    "print(b1)\n",
    "print(a1 + b1)\n",
    "# Second case\n",
    "print(\"Second case:\")\n",
    "print(a1 + b)\n",
    "# Third case\n",
    "print(\"Third case:\")\n",
    "print(a)\n",
    "print(b)\n",
    "print(a+b)\n",
    "# print(a*b)\n"
   ]
  },
  {
   "cell_type": "markdown",
   "metadata": {},
   "source": [
    "Using Broadcasting with None"
   ]
  },
  {
   "cell_type": "code",
   "execution_count": 72,
   "metadata": {},
   "outputs": [
    {
     "name": "stdout",
     "output_type": "stream",
     "text": [
      "[[1 2 3]]\n",
      "[[4]\n",
      " [5]\n",
      " [6]\n",
      " [7]]\n"
     ]
    },
    {
     "data": {
      "text/plain": [
       "array([[-3, -2, -1],\n",
       "       [-4, -3, -2],\n",
       "       [-5, -4, -3],\n",
       "       [-6, -5, -4]])"
      ]
     },
     "execution_count": 72,
     "metadata": {},
     "output_type": "execute_result"
    }
   ],
   "source": [
    "import numpy as np\n",
    "a = np.array([1,2,3])\n",
    "b = np.array([4,5,6,7])\n",
    "print(a[None, :])\n",
    "print(b[:, None])\n",
    "a[None, :] - b[:, None]"
   ]
  },
  {
   "cell_type": "markdown",
   "metadata": {},
   "source": [
    "Using Broadcasting to set array element"
   ]
  },
  {
   "cell_type": "code",
   "execution_count": 73,
   "metadata": {},
   "outputs": [
    {
     "name": "stdout",
     "output_type": "stream",
     "text": [
      "[[2. 2. 2. 2. 2.]\n",
      " [1. 1. 1. 1. 1.]\n",
      " [1. 1. 1. 1. 1.]\n",
      " [1. 1. 1. 1. 1.]]\n"
     ]
    }
   ],
   "source": [
    "a = np.ones((4, 5))\n",
    "a[0] = 2  # we assign an array of dimension 0 to an array of dimension \n",
    "print(a) #array([[ 2.,  2.,  2.,  2.,  2.], \n",
    "         #       [ 1.,  1.,  1.,  1.,  1.],\n",
    "         #       [ 1.,  1.,  1.,  1.,  1.],\n",
    "         #       [ 1.,  1.,  1.,  1.,  1.]])"
   ]
  },
  {
   "cell_type": "markdown",
   "metadata": {},
   "source": [
    "## Strides (Optional)"
   ]
  },
  {
   "cell_type": "markdown",
   "metadata": {},
   "source": [
    "You properly wont be using strides in the future but knowing them helps writing optimized code."
   ]
  },
  {
   "cell_type": "code",
   "execution_count": 74,
   "metadata": {},
   "outputs": [
    {
     "name": "stdout",
     "output_type": "stream",
     "text": [
      "(3, 1)\n",
      "6\n"
     ]
    }
   ],
   "source": [
    "import numpy as np\n",
    "\n",
    "x = np.array([[1, 2, 3],\n",
    "              [4, 5, 6],\n",
    "              [7, 8, 9]], dtype=np.int8)\n",
    "\n",
    "#At which byte starting from x[0,0] does x[1,2] begins?\n",
    "\n",
    "#Strides! Number of bytes to jump to reach the next element\n",
    "print(x.strides) #=> (3,1)\n",
    "#Jump 3 bytes to go to next column\n",
    "#Jump 1 byte to go to next row\n",
    "\n",
    "#Read x in C pointer style\n",
    "byte_offset = 3*1 + 1*2 #Jump 1st column and 2nd row\n",
    "print(x.flat[byte_offset]) #=> 6 #No out of bound checking"
   ]
  },
  {
   "cell_type": "markdown",
   "metadata": {},
   "source": [
    "### Array Shape Transformations with Strides"
   ]
  },
  {
   "cell_type": "code",
   "execution_count": 75,
   "metadata": {},
   "outputs": [
    {
     "name": "stdout",
     "output_type": "stream",
     "text": [
      "[5 4 3 2 1 0]\n",
      "(-1,)\n",
      "{'data': (94737661034192, False), 'strides': None, 'descr': [('', '|i1')], 'typestr': '|i1', 'shape': (6,), 'version': 3}\n",
      "{'data': (94737661034197, False), 'strides': (-1,), 'descr': [('', '|i1')], 'typestr': '|i1', 'shape': (6,), 'version': 3}\n",
      "[  5   4 100   2   1   0]\n",
      "[  0   1   2 100   4   5]\n"
     ]
    }
   ],
   "source": [
    "#A lot of transformation can be done by changing strides\n",
    "#That means the transformed array is actually\n",
    "#pointing to the same memory but reading in a different way.\n",
    "#No copies made.\n",
    "x = np.array([0, 1, 2, 3, 4, 5], dtype=np.int8)\n",
    "y = x[::-1] #Read x in reverse\n",
    "print(y) #=>[5 4 3 2 1 0]\n",
    "print(y.strides) #=>(-1,)\n",
    "\n",
    "#x and y are pointing to the same block of memory\n",
    "#with different method to read and different first memory location\n",
    "print(x.__array_interface__) #Gives a lot of metadata about x\n",
    "print(y.__array_interface__)\n",
    "\n",
    "#So changing y changes x as well\n",
    "y[2] = 100\n",
    "print(y) #[5 4 100 2 1 0]\n",
    "print(x) #[0 1 2 100 4 5]"
   ]
  },
  {
   "cell_type": "code",
   "execution_count": 76,
   "metadata": {},
   "outputs": [
    {
     "name": "stdout",
     "output_type": "stream",
     "text": [
      "[[0 1]\n",
      " [2 3]\n",
      " [4 5]]\n",
      "[[0 2 4]\n",
      " [1 3 5]]\n",
      "[0 2 4 1 3 5]\n"
     ]
    }
   ],
   "source": [
    "#Sometimes a copy must be made\n",
    "\n",
    "x = np.array([0, 1, 2, 3, 4, 5], dtype=np.int8)\n",
    "z = x.reshape(3, 2)\n",
    "print(z) #=> [[0 1]\n",
    "         #    [2 3]\n",
    "         #    [4 5]]\n",
    "z = z.T\n",
    "print(z) #=> [[0 2 4] \n",
    "         #    [1 3 5]]\n",
    "\n",
    "a = z.reshape(3*2)\n",
    "#There is no way to represent a with x by\n",
    "#a one dimensional stride. So a copy is made.\n",
    "#This takes O(n) time, while modifying strides is O(1)\n",
    "print(a) # [0 2 4 1 3 5]"
   ]
  },
  {
   "cell_type": "markdown",
   "metadata": {},
   "source": [
    "### Manually Declaring Strides and Shape"
   ]
  },
  {
   "cell_type": "code",
   "execution_count": 77,
   "metadata": {},
   "outputs": [
    {
     "name": "stdout",
     "output_type": "stream",
     "text": [
      "[[1 2 3 4]\n",
      " [1 2 3 4]\n",
      " [1 2 3 4]]\n",
      "[[ 1 10  3  4]\n",
      " [ 1 10  3  4]\n",
      " [ 1 10  3  4]]\n"
     ]
    }
   ],
   "source": [
    "from numpy.lib.stride_tricks import as_strided\n",
    "\n",
    "#The same location of memory can appear several times in another array\n",
    "x = np.array([1, 2, 3, 4], dtype=np.int8)\n",
    "#Changing strides and the shape explicitly\n",
    "y = as_strided(x, strides=(0, 1), shape=(3, 4))\n",
    "print(y) # [[1 2 3 4]\n",
    "         #  [1 2 3 4]\n",
    "         #  [1 2 3 4]]\n",
    "y[0,1] = 10 \n",
    "print(y) # [[1 10 3 4]\n",
    "         #  [1 10 3 4]\n",
    "         #  [1 10 3 4]]\n",
    "#Because y[0,0], y[0,1], y[0,2] occupies the same memory."
   ]
  },
  {
   "cell_type": "markdown",
   "metadata": {},
   "source": [
    "### Broadcasting with Strides"
   ]
  },
  {
   "cell_type": "code",
   "execution_count": 78,
   "metadata": {},
   "outputs": [
    {
     "name": "stdout",
     "output_type": "stream",
     "text": [
      "x: [1 2 3 4]\n",
      "y: [5 6 7]\n",
      "x2:\n",
      " [[1 2 3 4]\n",
      " [1 2 3 4]\n",
      " [1 2 3 4]]\n",
      "y2:\n",
      " [[5 5 5 5]\n",
      " [6 6 6 6]\n",
      " [7 7 7 7]]\n",
      "manual broadcasting:\n",
      " [[ 6  7  8  9]\n",
      " [ 7  8  9 10]\n",
      " [ 8  9 10 11]]\n",
      "numpy broadcasting\n",
      " [[ 6  7  8  9]\n",
      " [ 7  8  9 10]\n",
      " [ 8  9 10 11]]\n"
     ]
    }
   ],
   "source": [
    "x = np.array([1, 2, 3, 4], dtype=np.int16)\n",
    "x2 = as_strided(x, strides=(0, 1*2), shape=(3, 4))\n",
    "y = np.array([5, 6, 7], dtype=np.int16)\n",
    "y2 = as_strided(y, strides=(1*2, 0), shape=(3, 4))\n",
    "\n",
    "print('x:', x)\n",
    "print('y:', y)\n",
    "print('x2:\\n', x2)\n",
    "print('y2:\\n', y2)\n",
    "print('manual broadcasting:\\n', x2+y2) \n",
    "#[[5 10 15 20]\n",
    "# [6 12 18 24]\n",
    "# [7 14 21 28]]\n",
    "\n",
    "#Which is actually equal to\n",
    "print('numpy broadcasting\\n', x[np.newaxis,:] + y[:,np.newaxis])\n",
    "#array broadcasting is indeed implemented using 0-strides."
   ]
  },
  {
   "cell_type": "markdown",
   "metadata": {},
   "source": [
    "### Strides and Cache"
   ]
  },
  {
   "cell_type": "markdown",
   "metadata": {},
   "source": [
    "CPU pulls data from main memory to its cache in blocks\n",
    "If many array items consecutively operated on fit in a single block (small stride):\n",
    "- fewer transfers needed\n",
    "- faster\n",
    "\n",
    "\n"
   ]
  },
  {
   "cell_type": "markdown",
   "metadata": {},
   "source": [
    "![strides](img/strides.png)"
   ]
  },
  {
   "cell_type": "code",
   "execution_count": 79,
   "metadata": {
    "scrolled": true
   },
   "outputs": [
    {
     "name": "stdout",
     "output_type": "stream",
     "text": [
      "4.09 µs ± 44.9 ns per loop (mean ± std. dev. of 7 runs, 100,000 loops each)\n",
      "12 µs ± 152 ns per loop (mean ± std. dev. of 7 runs, 100,000 loops each)\n",
      "(8,) (536,)\n"
     ]
    }
   ],
   "source": [
    "#See the effect of cache locality here\n",
    "x = np.zeros((20000,))\n",
    "y = np.zeros((20000*67,))[::67]\n",
    "\n",
    "#Run these 2 lines in ipython/jupyter, python doesn’t support these\n",
    "%timeit x.sum() #100000 loops, best of 3: 0.180 ms per loop\n",
    "%timeit y.sum() #100000 loops, best of 3: 2.34 ms per loop\n",
    "\n",
    "print(x.strides, y.strides) #((8,), (536,))"
   ]
  },
  {
   "cell_type": "markdown",
   "metadata": {},
   "source": [
    "# Numpy Exercise Solution"
   ]
  },
  {
   "cell_type": "code",
   "execution_count": 80,
   "metadata": {},
   "outputs": [
    {
     "name": "stdout",
     "output_type": "stream",
     "text": [
      "3.414213562373095 0.5857864376269049\n"
     ]
    }
   ],
   "source": [
    "a = 1\n",
    "b = -4\n",
    "c = 2\n",
    "x1 = (-b + np.sqrt((np.power(b, 2) - 4*a*c)))/(2*a)\n",
    "x2 = (-b - np.sqrt((np.power(b, 2) - 4*a*c)))/(2*a)\n",
    "print(x1, x2)"
   ]
  },
  {
   "cell_type": "code",
   "execution_count": 81,
   "metadata": {},
   "outputs": [
    {
     "name": "stdout",
     "output_type": "stream",
     "text": [
      "Checkerboard pattern:\n",
      "[[0 1 0 1 0 1 0 1]\n",
      " [1 0 1 0 1 0 1 0]\n",
      " [0 1 0 1 0 1 0 1]\n",
      " [1 0 1 0 1 0 1 0]\n",
      " [0 1 0 1 0 1 0 1]\n",
      " [1 0 1 0 1 0 1 0]\n",
      " [0 1 0 1 0 1 0 1]\n",
      " [1 0 1 0 1 0 1 0]]\n"
     ]
    }
   ],
   "source": [
    "import numpy as np\n",
    "x = np.ones((3,3))\n",
    "print(\"Checkerboard pattern:\")\n",
    "x = np.zeros((8,8),dtype=int)\n",
    "x[1::2,::2] = 1\n",
    "x[::2,1::2] = 1\n",
    "print(x)"
   ]
  }
 ],
 "metadata": {
  "kernelspec": {
   "display_name": "Python 3.10.6 ('base')",
   "language": "python",
   "name": "python3"
  },
  "language_info": {
   "codemirror_mode": {
    "name": "ipython",
    "version": 3
   },
   "file_extension": ".py",
   "mimetype": "text/x-python",
   "name": "python",
   "nbconvert_exporter": "python",
   "pygments_lexer": "ipython3",
   "version": "3.10.6"
  },
  "vscode": {
   "interpreter": {
    "hash": "341e8e9c8d3e2d1f1e1faaf44066549dfc0d641a61d73ecd969ccd8e30e431f6"
   }
  }
 },
 "nbformat": 4,
 "nbformat_minor": 2
}
